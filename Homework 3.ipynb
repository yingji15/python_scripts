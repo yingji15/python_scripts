{
 "cells": [
  {
   "cell_type": "markdown",
   "metadata": {},
   "source": [
    "Answer all questions and submit them either as an IPython notebook, LaTeX document, or Markdown document. Provide full answers for each question, including interpretation of the results. Each question is worth 25 points.\n",
    "\n",
    "This homework is due on Friday, December 8, 2017."
   ]
  },
  {
   "cell_type": "markdown",
   "metadata": {},
   "source": [
    "## Question 1\n",
    "\n",
    "The `titanic.xls` spreadsheet in the `data` directory contains data regarding the passengers on the Titanic when it sank in 1912. A recent [Kaggle competition](http://www.kaggle.com/c/titanic-gettingStarted) was based on predicting survival for passengers based on the attributes in the passenger list. \n",
    "\n",
    "Use scikit-learn to build both a support vector classifier and a logistic regression model to predict survival on the Titanic. Use cross-validation to assess your models, and try to tune them to improve performance.\n",
    "\n",
    "Discuss the benefits and drawbacks of both approaches for application to such problems."
   ]
  },
  {
   "cell_type": "code",
   "execution_count": 172,
   "metadata": {
    "collapsed": true
   },
   "outputs": [],
   "source": [
    "# Write your work here\n",
    "\n",
    "%matplotlib inline\n",
    "import numpy as np\n",
    "import pandas as pd\n",
    "import seaborn as sns\n",
    "import matplotlib.pyplot as plt"
   ]
  },
  {
   "cell_type": "code",
   "execution_count": 173,
   "metadata": {
    "collapsed": true
   },
   "outputs": [],
   "source": [
    "titanic = pd.read_excel('../data/titanic.xls',\"titanic\")\n"
   ]
  },
  {
   "cell_type": "code",
   "execution_count": 174,
   "metadata": {
    "collapsed": true
   },
   "outputs": [],
   "source": [
    "#deal with some predictors\n",
    "#reference: Kaggle. I looked at what others do with the sibsp, parch and title part\n",
    "\n",
    "#change cabin to whether has cabin or not\n",
    "titanic['has_cabin'] = titanic[\"cabin\"].apply(lambda x: 0 if type(x) == float else 1)\n",
    "#get number of family members for each guest\n",
    "titanic['familysize'] = titanic['sibsp'] + titanic['parch'] + 1\n",
    "import re\n",
    "#get the social status information from name\n",
    "def get_title(name):\n",
    "    title_search = re.search(' ([A-Za-z]+)\\.', name)\n",
    "    # If the title exists, extract and return it.\n",
    "    if title_search:\n",
    "        return title_search.group(1)\n",
    "    return \"\"\n",
    "titanic['title'] = titanic['name'].apply(get_title)\n",
    "titanic['Title'] = titanic['title'].replace(['Lady', 'Countess','Capt', 'Col','Don', 'Dr', 'Major', 'Rev', 'Sir', 'Jonkheer', 'Dona'], 'Rare')\n",
    "titanic['title'] = titanic['title'].replace(['Mlle','Ms'], 'Miss')\n",
    "titanic['title'] = titanic['title'].replace('Mme', 'Mrs')\n",
    "\n",
    "titanic['title'] = titanic['title'].map({\"Mr\": 1, \"Miss\": 2, \"Mrs\": 3, \"Master\": 4, \"Rare\": 5})\n",
    "titanic['title'] = titanic['title'].fillna(0)\n",
    "\n"
   ]
  },
  {
   "cell_type": "code",
   "execution_count": 175,
   "metadata": {
    "collapsed": true
   },
   "outputs": [],
   "source": [
    "#drop several columns \n",
    "titanic_data = titanic.drop(['name','ticket','cabin','boat','body','Title','home.dest'], axis = 1)\n",
    "titanic_data=titanic_data.dropna(axis=0,how='any')\n",
    "\n",
    "#change embarked to numbers\n",
    "titanic_data['embarked'] = titanic_data.embarked.replace({'S':0, 'C':1,'Q':2})\n",
    "#change sex to numbers \n",
    "titanic_data['sex'] = titanic_data.sex.replace({'male':0, 'female':1})"
   ]
  },
  {
   "cell_type": "code",
   "execution_count": 176,
   "metadata": {
    "collapsed": true
   },
   "outputs": [],
   "source": [
    "y =titanic_data.pop('survived')\n",
    "X=titanic_data.copy()"
   ]
  },
  {
   "cell_type": "markdown",
   "metadata": {},
   "source": [
    "## logistic regression"
   ]
  },
  {
   "cell_type": "code",
   "execution_count": 177,
   "metadata": {},
   "outputs": [
    {
     "data": {
      "text/plain": [
       "array([ 0.6       ,  0.78095238,  0.87619048,  0.86666667,  0.83809524,\n",
       "        0.83653846,  0.91346154,  0.65384615,  0.68932039,  0.74757282])"
      ]
     },
     "execution_count": 177,
     "metadata": {},
     "output_type": "execute_result"
    }
   ],
   "source": [
    "from sklearn.model_selection import train_test_split\n",
    "X_train, X_test, y_train, y_test = train_test_split(X, y)\n",
    "from sklearn.linear_model import LogisticRegression\n",
    "\n",
    "#logistic regression\n",
    "lrmod = LogisticRegression(C=1000) \n",
    "lrmod\n",
    "\n",
    "lrmod.fit(X_train, y_train)\n",
    "\n",
    "pred_train = lrmod.predict(X_train)\n",
    "pred_test = lrmod.predict(X_test)\n",
    "\n",
    "#use cross validation to assess model performance\n",
    "from sklearn.model_selection import cross_val_score\n",
    "from sklearn import model_selection\n",
    "\n",
    "lrscores = model_selection.cross_val_score(lrmod, X, y, cv=10)\n",
    "lrscores"
   ]
  },
  {
   "cell_type": "code",
   "execution_count": 178,
   "metadata": {},
   "outputs": [
    {
     "name": "stdout",
     "output_type": "stream",
     "text": [
      "logistic regression Accuracy: 0.78 (+/- 0.20)\n"
     ]
    }
   ],
   "source": [
    "print(\"logistic regression Accuracy: %0.2f (+/- %0.2f)\" % (lrscores.mean(), lrscores.std() * 2))"
   ]
  },
  {
   "cell_type": "code",
   "execution_count": 179,
   "metadata": {},
   "outputs": [
    {
     "data": {
      "text/html": [
       "<div>\n",
       "<style>\n",
       "    .dataframe thead tr:only-child th {\n",
       "        text-align: right;\n",
       "    }\n",
       "\n",
       "    .dataframe thead th {\n",
       "        text-align: left;\n",
       "    }\n",
       "\n",
       "    .dataframe tbody tr th {\n",
       "        vertical-align: top;\n",
       "    }\n",
       "</style>\n",
       "<table border=\"1\" class=\"dataframe\">\n",
       "  <thead>\n",
       "    <tr style=\"text-align: right;\">\n",
       "      <th>Predicted</th>\n",
       "      <th>0</th>\n",
       "      <th>1</th>\n",
       "    </tr>\n",
       "    <tr>\n",
       "      <th>Actual</th>\n",
       "      <th></th>\n",
       "      <th></th>\n",
       "    </tr>\n",
       "  </thead>\n",
       "  <tbody>\n",
       "    <tr>\n",
       "      <th>0</th>\n",
       "      <td>395</td>\n",
       "      <td>68</td>\n",
       "    </tr>\n",
       "    <tr>\n",
       "      <th>1</th>\n",
       "      <td>74</td>\n",
       "      <td>245</td>\n",
       "    </tr>\n",
       "  </tbody>\n",
       "</table>\n",
       "</div>"
      ],
      "text/plain": [
       "Predicted    0    1\n",
       "Actual             \n",
       "0          395   68\n",
       "1           74  245"
      ]
     },
     "execution_count": 179,
     "metadata": {},
     "output_type": "execute_result"
    }
   ],
   "source": [
    "#with training data\n",
    "pd.crosstab(y_train, pred_train, \n",
    "            rownames=[\"Actual\"], colnames=[\"Predicted\"])"
   ]
  },
  {
   "cell_type": "code",
   "execution_count": 180,
   "metadata": {},
   "outputs": [
    {
     "data": {
      "text/html": [
       "<div>\n",
       "<style>\n",
       "    .dataframe thead tr:only-child th {\n",
       "        text-align: right;\n",
       "    }\n",
       "\n",
       "    .dataframe thead th {\n",
       "        text-align: left;\n",
       "    }\n",
       "\n",
       "    .dataframe tbody tr th {\n",
       "        vertical-align: top;\n",
       "    }\n",
       "</style>\n",
       "<table border=\"1\" class=\"dataframe\">\n",
       "  <thead>\n",
       "    <tr style=\"text-align: right;\">\n",
       "      <th>Predicted</th>\n",
       "      <th>0</th>\n",
       "      <th>1</th>\n",
       "    </tr>\n",
       "    <tr>\n",
       "      <th>Actual</th>\n",
       "      <th></th>\n",
       "      <th></th>\n",
       "    </tr>\n",
       "  </thead>\n",
       "  <tbody>\n",
       "    <tr>\n",
       "      <th>0</th>\n",
       "      <td>131</td>\n",
       "      <td>24</td>\n",
       "    </tr>\n",
       "    <tr>\n",
       "      <th>1</th>\n",
       "      <td>29</td>\n",
       "      <td>77</td>\n",
       "    </tr>\n",
       "  </tbody>\n",
       "</table>\n",
       "</div>"
      ],
      "text/plain": [
       "Predicted    0   1\n",
       "Actual            \n",
       "0          131  24\n",
       "1           29  77"
      ]
     },
     "execution_count": 180,
     "metadata": {},
     "output_type": "execute_result"
    }
   ],
   "source": [
    "#with test data\n",
    "pd.crosstab(y_test, pred_test, \n",
    "            rownames=[\"Actual\"], colnames=[\"Predicted\"])"
   ]
  },
  {
   "cell_type": "markdown",
   "metadata": {},
   "source": [
    "## support vector machine"
   ]
  },
  {
   "cell_type": "code",
   "execution_count": 181,
   "metadata": {},
   "outputs": [
    {
     "data": {
      "text/plain": [
       "array([ 0.65714286,  0.85714286,  0.85714286,  0.83809524,  0.82857143,\n",
       "        0.83653846,  0.85576923,  0.71153846,  0.66990291,  0.75728155])"
      ]
     },
     "execution_count": 181,
     "metadata": {},
     "output_type": "execute_result"
    }
   ],
   "source": [
    "#use support vector machine (SVM)\n",
    "from sklearn import svm\n",
    "f = svm.SVC(kernel='linear', C=1)\n",
    "f.fit(X_train, y_train)\n",
    "f.score(X_test, y_test)\n",
    "\n",
    "#use cross validation to assess model performance\n",
    "from sklearn.model_selection import cross_val_score\n",
    "from sklearn import model_selection\n",
    "\n",
    "scores = model_selection.cross_val_score(f, X, y, cv=10)\n",
    "scores"
   ]
  },
  {
   "cell_type": "code",
   "execution_count": 182,
   "metadata": {},
   "outputs": [
    {
     "name": "stdout",
     "output_type": "stream",
     "text": [
      "SVM Accuracy: 0.79 (+/- 0.15)\n"
     ]
    }
   ],
   "source": [
    "print(\"SVM Accuracy: %0.2f (+/- %0.2f)\" % (scores.mean(), scores.std() * 2))"
   ]
  },
  {
   "cell_type": "markdown",
   "metadata": {},
   "source": [
    "compare logistic regression and SVM:\n",
    "using 10-fold cross validation, we see the mean accuracy score of logistic regression (c=1000) is 0.78, mean accuracy socre for SVM(linear, c=1) is 0.79. So they perform similarly here.\n",
    "\n",
    "Let n=number of features, m=number of training samples\n",
    "Generally, it is suggested if \n",
    "n is large compare to m, use logistic regression or linear SVM\n",
    "n is small, m is intermediate, use SVM (gaussian kernal)\n",
    "n is small, m is large, add more features then use use logistic regression or linear SVM\n",
    "\n",
    "Here we have a dataset of large m (sample), small n (feature), so we use logistic regression or linear SVM. But here logistic regression is more appropriate\n",
    "\n",
    "Logistic regression\n",
    "benefits: robust to small noises\n",
    "drawbacks: Doesn’t perform well when feature space is too large, use entire data\n",
    "\n",
    "SVM\n",
    "benefits: leads to sparser solutions, Can handle large feature space, doesn't need entire data\n",
    "drawbacks: Not very efficient with large number of observations (situation here), need specify kernal (can be triky)\n",
    "\n",
    "reference: https://www.edvancer.in/logistic-regression-vs-decision-trees-vs-svm-part2/\n"
   ]
  },
  {
   "cell_type": "markdown",
   "metadata": {},
   "source": [
    "## Question 2\n",
    "\n",
    "The file `TNNASHVI.txt` in your data directory contains daily temperature readings for Nashville, courtesy of the [Average Daily Temperature Archive](http://academic.udayton.edu/kissock/http/Weather/). This data, as one would expect, oscillates annually. Using PyMC3, use a Gaussian process to fit a non-parametric regression model to this data, choosing an appropriate covariance function. Plot 10 regression lines drawn from your process."
   ]
  },
  {
   "cell_type": "code",
   "execution_count": 183,
   "metadata": {},
   "outputs": [
    {
     "data": {
      "image/png": "[encoded data removed]",
      "text/plain": [
       "<matplotlib.figure.Figure at 0x129b97c50>"
      ]
     },
     "metadata": {},
     "output_type": "display_data"
    }
   ],
   "source": [
    "%matplotlib inline\n",
    "\n",
    "import pandas as pd\n",
    "\n",
    "daily_temps = pd.read_table(\"../data/TNNASHVI.txt\", sep='\\s+', \n",
    "                            names=['month','day','year','temp'], na_values=-99)\n",
    "\n",
    "#use data after 2010\n",
    "temps_2010 = daily_temps.temp[daily_temps.year>2010]\n",
    "temps_2010.plot(style='b.', figsize=(10,6), grid=False)\n",
    "\n",
    "x, y = temps_2010.reset_index().values.T\n",
    "X = x.reshape(-1, 1)"
   ]
  },
  {
   "cell_type": "code",
   "execution_count": 184,
   "metadata": {
    "collapsed": true
   },
   "outputs": [],
   "source": [
    "daily_temps = pd.read_table(\"../data/TNNASHVI.txt\", sep='\\s+', \n",
    "                            names=['month','day','year','temp'], na_values=-99)\n",
    "\n",
    "# Transmogrify data\n",
    "y = daily_temps.temp[daily_temps.year>2010]\n",
    "X = np.atleast_2d(np.arange(len(y))).T"
   ]
  },
  {
   "cell_type": "code",
   "execution_count": 185,
   "metadata": {},
   "outputs": [
    {
     "ename": "Exception",
     "evalue": "Data must be 1-dimensional",
     "output_type": "error",
     "traceback": [
      "\u001b[0;31m---------------------------------------------------------------------------\u001b[0m",
      "\u001b[0;31mException\u001b[0m                                 Traceback (most recent call last)",
      "\u001b[0;32m<ipython-input-185-40dcbd95d0d0>\u001b[0m in \u001b[0;36m<module>\u001b[0;34m()\u001b[0m\n\u001b[1;32m     10\u001b[0m     \u001b[0mcov\u001b[0m \u001b[0;34m=\u001b[0m \u001b[0mtau\u001b[0m \u001b[0;34m*\u001b[0m \u001b[0mpm\u001b[0m\u001b[0;34m.\u001b[0m\u001b[0mgp\u001b[0m\u001b[0;34m.\u001b[0m\u001b[0mcov\u001b[0m\u001b[0;34m.\u001b[0m\u001b[0mCosine\u001b[0m\u001b[0;34m(\u001b[0m\u001b[0;36m1\u001b[0m\u001b[0;34m,\u001b[0m \u001b[0ml\u001b[0m\u001b[0;34m)\u001b[0m\u001b[0;34m\u001b[0m\u001b[0m\n\u001b[1;32m     11\u001b[0m \u001b[0;34m\u001b[0m\u001b[0m\n\u001b[0;32m---> 12\u001b[0;31m     \u001b[0mM\u001b[0m \u001b[0;34m=\u001b[0m \u001b[0mpm\u001b[0m\u001b[0;34m.\u001b[0m\u001b[0mgp\u001b[0m\u001b[0;34m.\u001b[0m\u001b[0mmean\u001b[0m\u001b[0;34m.\u001b[0m\u001b[0mLinear\u001b[0m\u001b[0;34m(\u001b[0m\u001b[0mcoeffs\u001b[0m\u001b[0;34m=\u001b[0m\u001b[0;34m(\u001b[0m\u001b[0my\u001b[0m\u001b[0;34m/\u001b[0m\u001b[0mX\u001b[0m\u001b[0;34m)\u001b[0m\u001b[0;34m.\u001b[0m\u001b[0mmean\u001b[0m\u001b[0;34m(\u001b[0m\u001b[0;34m)\u001b[0m\u001b[0;34m)\u001b[0m\u001b[0;34m\u001b[0m\u001b[0m\n\u001b[0m\u001b[1;32m     13\u001b[0m \u001b[0;34m\u001b[0m\u001b[0m\n\u001b[1;32m     14\u001b[0m     \u001b[0mσ\u001b[0m \u001b[0;34m=\u001b[0m \u001b[0mpm\u001b[0m\u001b[0;34m.\u001b[0m\u001b[0mHalfCauchy\u001b[0m\u001b[0;34m(\u001b[0m\u001b[0;34m'σ'\u001b[0m\u001b[0;34m,\u001b[0m \u001b[0;36m1\u001b[0m\u001b[0;34m)\u001b[0m\u001b[0;34m\u001b[0m\u001b[0m\n",
      "\u001b[0;32m~/anaconda2/envs/bios8366/lib/python3.6/site-packages/pandas/core/ops.py\u001b[0m in \u001b[0;36mwrapper\u001b[0;34m(left, right, name, na_op)\u001b[0m\n\u001b[1;32m    725\u001b[0m             \u001b[0mindex\u001b[0m\u001b[0;34m=\u001b[0m\u001b[0mleft\u001b[0m\u001b[0;34m.\u001b[0m\u001b[0mindex\u001b[0m\u001b[0;34m,\u001b[0m\u001b[0;34m\u001b[0m\u001b[0m\n\u001b[1;32m    726\u001b[0m             \u001b[0mname\u001b[0m\u001b[0;34m=\u001b[0m\u001b[0mname\u001b[0m\u001b[0;34m,\u001b[0m\u001b[0;34m\u001b[0m\u001b[0m\n\u001b[0;32m--> 727\u001b[0;31m             \u001b[0mdtype\u001b[0m\u001b[0;34m=\u001b[0m\u001b[0mdtype\u001b[0m\u001b[0;34m,\u001b[0m\u001b[0;34m\u001b[0m\u001b[0m\n\u001b[0m\u001b[1;32m    728\u001b[0m         )\n\u001b[1;32m    729\u001b[0m \u001b[0;34m\u001b[0m\u001b[0m\n",
      "\u001b[0;32m~/anaconda2/envs/bios8366/lib/python3.6/site-packages/pandas/core/ops.py\u001b[0m in \u001b[0;36m_construct_result\u001b[0;34m(left, result, index, name, dtype)\u001b[0m\n\u001b[1;32m    633\u001b[0m \u001b[0;34m\u001b[0m\u001b[0m\n\u001b[1;32m    634\u001b[0m \u001b[0;32mdef\u001b[0m \u001b[0m_construct_result\u001b[0m\u001b[0;34m(\u001b[0m\u001b[0mleft\u001b[0m\u001b[0;34m,\u001b[0m \u001b[0mresult\u001b[0m\u001b[0;34m,\u001b[0m \u001b[0mindex\u001b[0m\u001b[0;34m,\u001b[0m \u001b[0mname\u001b[0m\u001b[0;34m,\u001b[0m \u001b[0mdtype\u001b[0m\u001b[0;34m)\u001b[0m\u001b[0;34m:\u001b[0m\u001b[0;34m\u001b[0m\u001b[0m\n\u001b[0;32m--> 635\u001b[0;31m     \u001b[0;32mreturn\u001b[0m \u001b[0mleft\u001b[0m\u001b[0;34m.\u001b[0m\u001b[0m_constructor\u001b[0m\u001b[0;34m(\u001b[0m\u001b[0mresult\u001b[0m\u001b[0;34m,\u001b[0m \u001b[0mindex\u001b[0m\u001b[0;34m=\u001b[0m\u001b[0mindex\u001b[0m\u001b[0;34m,\u001b[0m \u001b[0mname\u001b[0m\u001b[0;34m=\u001b[0m\u001b[0mname\u001b[0m\u001b[0;34m,\u001b[0m \u001b[0mdtype\u001b[0m\u001b[0;34m=\u001b[0m\u001b[0mdtype\u001b[0m\u001b[0;34m)\u001b[0m\u001b[0;34m\u001b[0m\u001b[0m\n\u001b[0m\u001b[1;32m    636\u001b[0m \u001b[0;34m\u001b[0m\u001b[0m\n\u001b[1;32m    637\u001b[0m \u001b[0;34m\u001b[0m\u001b[0m\n",
      "\u001b[0;32m~/anaconda2/envs/bios8366/lib/python3.6/site-packages/pandas/core/series.py\u001b[0m in \u001b[0;36m__init__\u001b[0;34m(self, data, index, dtype, name, copy, fastpath)\u001b[0m\n\u001b[1;32m    246\u001b[0m             \u001b[0;32melse\u001b[0m\u001b[0;34m:\u001b[0m\u001b[0;34m\u001b[0m\u001b[0m\n\u001b[1;32m    247\u001b[0m                 data = _sanitize_array(data, index, dtype, copy,\n\u001b[0;32m--> 248\u001b[0;31m                                        raise_cast_failure=True)\n\u001b[0m\u001b[1;32m    249\u001b[0m \u001b[0;34m\u001b[0m\u001b[0m\n\u001b[1;32m    250\u001b[0m                 \u001b[0mdata\u001b[0m \u001b[0;34m=\u001b[0m \u001b[0mSingleBlockManager\u001b[0m\u001b[0;34m(\u001b[0m\u001b[0mdata\u001b[0m\u001b[0;34m,\u001b[0m \u001b[0mindex\u001b[0m\u001b[0;34m,\u001b[0m \u001b[0mfastpath\u001b[0m\u001b[0;34m=\u001b[0m\u001b[0;32mTrue\u001b[0m\u001b[0;34m)\u001b[0m\u001b[0;34m\u001b[0m\u001b[0m\n",
      "\u001b[0;32m~/anaconda2/envs/bios8366/lib/python3.6/site-packages/pandas/core/series.py\u001b[0m in \u001b[0;36m_sanitize_array\u001b[0;34m(data, index, dtype, copy, raise_cast_failure)\u001b[0m\n\u001b[1;32m   3025\u001b[0m     \u001b[0;32melif\u001b[0m \u001b[0msubarr\u001b[0m\u001b[0;34m.\u001b[0m\u001b[0mndim\u001b[0m \u001b[0;34m>\u001b[0m \u001b[0;36m1\u001b[0m\u001b[0;34m:\u001b[0m\u001b[0;34m\u001b[0m\u001b[0m\n\u001b[1;32m   3026\u001b[0m         \u001b[0;32mif\u001b[0m \u001b[0misinstance\u001b[0m\u001b[0;34m(\u001b[0m\u001b[0mdata\u001b[0m\u001b[0;34m,\u001b[0m \u001b[0mnp\u001b[0m\u001b[0;34m.\u001b[0m\u001b[0mndarray\u001b[0m\u001b[0;34m)\u001b[0m\u001b[0;34m:\u001b[0m\u001b[0;34m\u001b[0m\u001b[0m\n\u001b[0;32m-> 3027\u001b[0;31m             \u001b[0;32mraise\u001b[0m \u001b[0mException\u001b[0m\u001b[0;34m(\u001b[0m\u001b[0;34m'Data must be 1-dimensional'\u001b[0m\u001b[0;34m)\u001b[0m\u001b[0;34m\u001b[0m\u001b[0m\n\u001b[0m\u001b[1;32m   3028\u001b[0m         \u001b[0;32melse\u001b[0m\u001b[0;34m:\u001b[0m\u001b[0;34m\u001b[0m\u001b[0m\n\u001b[1;32m   3029\u001b[0m             \u001b[0msubarr\u001b[0m \u001b[0;34m=\u001b[0m \u001b[0m_asarray_tuplesafe\u001b[0m\u001b[0;34m(\u001b[0m\u001b[0mdata\u001b[0m\u001b[0;34m,\u001b[0m \u001b[0mdtype\u001b[0m\u001b[0;34m=\u001b[0m\u001b[0mdtype\u001b[0m\u001b[0;34m)\u001b[0m\u001b[0;34m\u001b[0m\u001b[0m\n",
      "\u001b[0;31mException\u001b[0m: Data must be 1-dimensional"
     ]
    }
   ],
   "source": [
    "\n",
    "#PyMC3 , choose cosine covariance here \n",
    "import pymc3 as pm\n",
    "\n",
    "with pm.Model() as temp_model:\n",
    "    \n",
    "   #use cosine covariance here\n",
    "    l = 0.2\n",
    "    tau = 2.0\n",
    "    cov = tau * pm.gp.cov.Cosine(1, l)\n",
    "    \n",
    "    M = pm.gp.mean.Linear(coeffs=(y/X).mean())\n",
    "    \n",
    "    σ = pm.HalfCauchy('σ', 1)\n",
    "    \n",
    "    recruit_gp = pm.gp.Marginal(mean_func=M, cov_func=cov)\n",
    "    \n",
    "    recruit_gp.marginal_likelihood('temparature', X=X, \n",
    "                           y=y, noise=σ)\n",
    "    \n",
    "\n"
   ]
  },
  {
   "cell_type": "code",
   "execution_count": 12,
   "metadata": {},
   "outputs": [
    {
     "name": "stderr",
     "output_type": "stream",
     "text": [
      "Auto-assigning NUTS sampler...\n",
      "Initializing NUTS using jitter+adapt_diag...\n",
      "WARNING (theano.configdefaults): install mkl with `conda install mkl-service`: No module named 'mkl'\n",
      "100%|██████████| 1500/1500 [30:05<00:00,  1.05it/s] \n"
     ]
    }
   ],
   "source": [
    "with temp_model:\n",
    "    temp_trace = pm.sample(1000)"
   ]
  },
  {
   "cell_type": "code",
   "execution_count": 18,
   "metadata": {},
   "outputs": [
    {
     "data": {
      "text/plain": [
       "6885.0"
      ]
     },
     "execution_count": 18,
     "metadata": {},
     "output_type": "execute_result"
    }
   ],
   "source": [
    "np.max(X)"
   ]
  },
  {
   "cell_type": "code",
   "execution_count": 19,
   "metadata": {},
   "outputs": [
    {
     "data": {
      "text/plain": [
       "5844.0"
      ]
     },
     "execution_count": 19,
     "metadata": {},
     "output_type": "execute_result"
    }
   ],
   "source": [
    "np.min(X)"
   ]
  },
  {
   "cell_type": "code",
   "execution_count": 20,
   "metadata": {},
   "outputs": [
    {
     "name": "stderr",
     "output_type": "stream",
     "text": [
      "100%|██████████| 10/10 [00:04<00:00,  3.84it/s]\n"
     ]
    }
   ],
   "source": [
    "X_pred = np.linspace(5800, 6900, 100).reshape(-1, 1)\n",
    "with temp_model:\n",
    "    temp_pred = recruit_gp.conditional(\"temp_pred\", X_pred)\n",
    "    temp_samples = pm.sample_ppc(temp_trace, vars=[temp_pred], samples=10)"
   ]
  },
  {
   "cell_type": "code",
   "execution_count": 24,
   "metadata": {},
   "outputs": [
    {
     "data": {
      "image/png": "[encoded data removed]",
      "text/plain": [
       "<matplotlib.figure.Figure at 0x13d88e048>"
      ]
     },
     "metadata": {},
     "output_type": "display_data"
    }
   ],
   "source": [
    "#plot 10 regression lines drawn from your process\n",
    "fig = plt.figure(figsize=(12,5)); ax = fig.gca()\n",
    "\n",
    "for x in temp_samples['temp_pred']:\n",
    "    ax.plot(X_pred, x);"
   ]
  },
  {
   "cell_type": "markdown",
   "metadata": {},
   "source": [
    "## Question 3\n",
    "\n",
    "Fit a series of random-forest classifiers to the Wisconsin breast cancer dataset (`wisconsin_breast_cancer.csv`), to explore the sensitivity to the parameters `max_features`, the number of variables considered for splitting at each step, `max_depth`, the maximum depth of the tree, and `n_estimators`, the number of trees in the forest. Use apprpriate metrics of performance, and include plots against a suitably-chosen range of values for these parameters.\n",
    "\n",
    "Dataset description: Features are computed from a digitized image of a fine needle aspirate (FNA) of a breast mass. They describe characteristics of the cell nuclei present in the image. Ten real-valued features are computed for each cell nucleus:\n",
    "\n",
    "- `radius` (mean of distances from center to points on the perimeter) \n",
    "- `texture` (standard deviation of gray-scale values) \n",
    "- `perimeter` \n",
    "- `area` \n",
    "- `smoothness` (local variation in radius lengths) \n",
    "- `compactness` (perimeter^2 / area - 1.0) \n",
    "- `concavity` (severity of concave portions of the contour) \n",
    "- `concave points` (number of concave portions of the contour) \n",
    "- `symmetry` \n",
    "- `fractal dimension` (\"coastline approximation\" - 1)\n",
    "\n",
    "The outcome to be predicted is tumor type (M = malignant, B = benign)."
   ]
  },
  {
   "cell_type": "code",
   "execution_count": 188,
   "metadata": {
    "collapsed": true
   },
   "outputs": [],
   "source": [
    "# Write your work here\n",
    "bc=pd.read_csv(\"../data/wisconsin_breast_cancer.csv\")"
   ]
  },
  {
   "cell_type": "code",
   "execution_count": 189,
   "metadata": {},
   "outputs": [
    {
     "data": {
      "text/html": [
       "<div>\n",
       "<style>\n",
       "    .dataframe thead tr:only-child th {\n",
       "        text-align: right;\n",
       "    }\n",
       "\n",
       "    .dataframe thead th {\n",
       "        text-align: left;\n",
       "    }\n",
       "\n",
       "    .dataframe tbody tr th {\n",
       "        vertical-align: top;\n",
       "    }\n",
       "</style>\n",
       "<table border=\"1\" class=\"dataframe\">\n",
       "  <thead>\n",
       "    <tr style=\"text-align: right;\">\n",
       "      <th></th>\n",
       "      <th>id</th>\n",
       "      <th>diagnosis</th>\n",
       "      <th>radius_mean</th>\n",
       "      <th>texture_mean</th>\n",
       "      <th>perimeter_mean</th>\n",
       "      <th>area_mean</th>\n",
       "      <th>smoothness_mean</th>\n",
       "      <th>compactness_mean</th>\n",
       "      <th>concavity_mean</th>\n",
       "      <th>concave_points_mean</th>\n",
       "      <th>...</th>\n",
       "      <th>radius_worst</th>\n",
       "      <th>texture_worst</th>\n",
       "      <th>perimeter_worst</th>\n",
       "      <th>area_worst</th>\n",
       "      <th>smoothness_worst</th>\n",
       "      <th>compactness_worst</th>\n",
       "      <th>concavity_worst</th>\n",
       "      <th>concave_points_worst</th>\n",
       "      <th>symmetry_worst</th>\n",
       "      <th>fractal_dimension_worst</th>\n",
       "    </tr>\n",
       "  </thead>\n",
       "  <tbody>\n",
       "    <tr>\n",
       "      <th>0</th>\n",
       "      <td>842302</td>\n",
       "      <td>M</td>\n",
       "      <td>17.99</td>\n",
       "      <td>10.38</td>\n",
       "      <td>122.80</td>\n",
       "      <td>1001.0</td>\n",
       "      <td>0.11840</td>\n",
       "      <td>0.27760</td>\n",
       "      <td>0.3001</td>\n",
       "      <td>0.14710</td>\n",
       "      <td>...</td>\n",
       "      <td>25.38</td>\n",
       "      <td>17.33</td>\n",
       "      <td>184.60</td>\n",
       "      <td>2019.0</td>\n",
       "      <td>0.1622</td>\n",
       "      <td>0.6656</td>\n",
       "      <td>0.7119</td>\n",
       "      <td>0.2654</td>\n",
       "      <td>0.4601</td>\n",
       "      <td>0.11890</td>\n",
       "    </tr>\n",
       "    <tr>\n",
       "      <th>1</th>\n",
       "      <td>842517</td>\n",
       "      <td>M</td>\n",
       "      <td>20.57</td>\n",
       "      <td>17.77</td>\n",
       "      <td>132.90</td>\n",
       "      <td>1326.0</td>\n",
       "      <td>0.08474</td>\n",
       "      <td>0.07864</td>\n",
       "      <td>0.0869</td>\n",
       "      <td>0.07017</td>\n",
       "      <td>...</td>\n",
       "      <td>24.99</td>\n",
       "      <td>23.41</td>\n",
       "      <td>158.80</td>\n",
       "      <td>1956.0</td>\n",
       "      <td>0.1238</td>\n",
       "      <td>0.1866</td>\n",
       "      <td>0.2416</td>\n",
       "      <td>0.1860</td>\n",
       "      <td>0.2750</td>\n",
       "      <td>0.08902</td>\n",
       "    </tr>\n",
       "    <tr>\n",
       "      <th>2</th>\n",
       "      <td>84300903</td>\n",
       "      <td>M</td>\n",
       "      <td>19.69</td>\n",
       "      <td>21.25</td>\n",
       "      <td>130.00</td>\n",
       "      <td>1203.0</td>\n",
       "      <td>0.10960</td>\n",
       "      <td>0.15990</td>\n",
       "      <td>0.1974</td>\n",
       "      <td>0.12790</td>\n",
       "      <td>...</td>\n",
       "      <td>23.57</td>\n",
       "      <td>25.53</td>\n",
       "      <td>152.50</td>\n",
       "      <td>1709.0</td>\n",
       "      <td>0.1444</td>\n",
       "      <td>0.4245</td>\n",
       "      <td>0.4504</td>\n",
       "      <td>0.2430</td>\n",
       "      <td>0.3613</td>\n",
       "      <td>0.08758</td>\n",
       "    </tr>\n",
       "    <tr>\n",
       "      <th>3</th>\n",
       "      <td>84348301</td>\n",
       "      <td>M</td>\n",
       "      <td>11.42</td>\n",
       "      <td>20.38</td>\n",
       "      <td>77.58</td>\n",
       "      <td>386.1</td>\n",
       "      <td>0.14250</td>\n",
       "      <td>0.28390</td>\n",
       "      <td>0.2414</td>\n",
       "      <td>0.10520</td>\n",
       "      <td>...</td>\n",
       "      <td>14.91</td>\n",
       "      <td>26.50</td>\n",
       "      <td>98.87</td>\n",
       "      <td>567.7</td>\n",
       "      <td>0.2098</td>\n",
       "      <td>0.8663</td>\n",
       "      <td>0.6869</td>\n",
       "      <td>0.2575</td>\n",
       "      <td>0.6638</td>\n",
       "      <td>0.17300</td>\n",
       "    </tr>\n",
       "    <tr>\n",
       "      <th>4</th>\n",
       "      <td>84358402</td>\n",
       "      <td>M</td>\n",
       "      <td>20.29</td>\n",
       "      <td>14.34</td>\n",
       "      <td>135.10</td>\n",
       "      <td>1297.0</td>\n",
       "      <td>0.10030</td>\n",
       "      <td>0.13280</td>\n",
       "      <td>0.1980</td>\n",
       "      <td>0.10430</td>\n",
       "      <td>...</td>\n",
       "      <td>22.54</td>\n",
       "      <td>16.67</td>\n",
       "      <td>152.20</td>\n",
       "      <td>1575.0</td>\n",
       "      <td>0.1374</td>\n",
       "      <td>0.2050</td>\n",
       "      <td>0.4000</td>\n",
       "      <td>0.1625</td>\n",
       "      <td>0.2364</td>\n",
       "      <td>0.07678</td>\n",
       "    </tr>\n",
       "  </tbody>\n",
       "</table>\n",
       "<p>5 rows × 32 columns</p>\n",
       "</div>"
      ],
      "text/plain": [
       "         id diagnosis  radius_mean  texture_mean  perimeter_mean  area_mean  \\\n",
       "0    842302         M        17.99         10.38          122.80     1001.0   \n",
       "1    842517         M        20.57         17.77          132.90     1326.0   \n",
       "2  84300903         M        19.69         21.25          130.00     1203.0   \n",
       "3  84348301         M        11.42         20.38           77.58      386.1   \n",
       "4  84358402         M        20.29         14.34          135.10     1297.0   \n",
       "\n",
       "   smoothness_mean  compactness_mean  concavity_mean  concave_points_mean  \\\n",
       "0          0.11840           0.27760          0.3001              0.14710   \n",
       "1          0.08474           0.07864          0.0869              0.07017   \n",
       "2          0.10960           0.15990          0.1974              0.12790   \n",
       "3          0.14250           0.28390          0.2414              0.10520   \n",
       "4          0.10030           0.13280          0.1980              0.10430   \n",
       "\n",
       "            ...             radius_worst  texture_worst  perimeter_worst  \\\n",
       "0           ...                    25.38          17.33           184.60   \n",
       "1           ...                    24.99          23.41           158.80   \n",
       "2           ...                    23.57          25.53           152.50   \n",
       "3           ...                    14.91          26.50            98.87   \n",
       "4           ...                    22.54          16.67           152.20   \n",
       "\n",
       "   area_worst  smoothness_worst  compactness_worst  concavity_worst  \\\n",
       "0      2019.0            0.1622             0.6656           0.7119   \n",
       "1      1956.0            0.1238             0.1866           0.2416   \n",
       "2      1709.0            0.1444             0.4245           0.4504   \n",
       "3       567.7            0.2098             0.8663           0.6869   \n",
       "4      1575.0            0.1374             0.2050           0.4000   \n",
       "\n",
       "   concave_points_worst  symmetry_worst  fractal_dimension_worst  \n",
       "0                0.2654          0.4601                  0.11890  \n",
       "1                0.1860          0.2750                  0.08902  \n",
       "2                0.2430          0.3613                  0.08758  \n",
       "3                0.2575          0.6638                  0.17300  \n",
       "4                0.1625          0.2364                  0.07678  \n",
       "\n",
       "[5 rows x 32 columns]"
      ]
     },
     "execution_count": 189,
     "metadata": {},
     "output_type": "execute_result"
    }
   ],
   "source": [
    "bc.head()"
   ]
  },
  {
   "cell_type": "code",
   "execution_count": 190,
   "metadata": {},
   "outputs": [],
   "source": [
    "y=bc.pop('diagnosis')"
   ]
  },
  {
   "cell_type": "code",
   "execution_count": 191,
   "metadata": {
    "collapsed": true
   },
   "outputs": [],
   "source": [
    "X=bc.iloc[:,1:32]"
   ]
  },
  {
   "cell_type": "code",
   "execution_count": 192,
   "metadata": {
    "collapsed": true
   },
   "outputs": [],
   "source": [
    "from sklearn import tree\n",
    "from sklearn import model_selection\n",
    "from sklearn.ensemble import RandomForestClassifier\n",
    "\n"
   ]
  },
  {
   "cell_type": "code",
   "execution_count": 152,
   "metadata": {},
   "outputs": [
    {
     "name": "stderr",
     "output_type": "stream",
     "text": [
      "/Users/ying/anaconda2/envs/bios8366/lib/python3.6/site-packages/sklearn/ensemble/forest.py:451: UserWarning: Some inputs do not have OOB scores. This probably means too few trees were used to compute any reliable oob estimates.\n",
      "  warn(\"Some inputs do not have OOB scores. \"\n",
      "/Users/ying/anaconda2/envs/bios8366/lib/python3.6/site-packages/sklearn/ensemble/forest.py:451: UserWarning: Some inputs do not have OOB scores. This probably means too few trees were used to compute any reliable oob estimates.\n",
      "  warn(\"Some inputs do not have OOB scores. \"\n",
      "/Users/ying/anaconda2/envs/bios8366/lib/python3.6/site-packages/sklearn/ensemble/forest.py:451: UserWarning: Some inputs do not have OOB scores. This probably means too few trees were used to compute any reliable oob estimates.\n",
      "  warn(\"Some inputs do not have OOB scores. \"\n",
      "/Users/ying/anaconda2/envs/bios8366/lib/python3.6/site-packages/sklearn/ensemble/forest.py:451: UserWarning: Some inputs do not have OOB scores. This probably means too few trees were used to compute any reliable oob estimates.\n",
      "  warn(\"Some inputs do not have OOB scores. \"\n",
      "/Users/ying/anaconda2/envs/bios8366/lib/python3.6/site-packages/sklearn/ensemble/forest.py:451: UserWarning: Some inputs do not have OOB scores. This probably means too few trees were used to compute any reliable oob estimates.\n",
      "  warn(\"Some inputs do not have OOB scores. \"\n",
      "/Users/ying/anaconda2/envs/bios8366/lib/python3.6/site-packages/sklearn/ensemble/forest.py:451: UserWarning: Some inputs do not have OOB scores. This probably means too few trees were used to compute any reliable oob estimates.\n",
      "  warn(\"Some inputs do not have OOB scores. \"\n",
      "/Users/ying/anaconda2/envs/bios8366/lib/python3.6/site-packages/sklearn/ensemble/forest.py:451: UserWarning: Some inputs do not have OOB scores. This probably means too few trees were used to compute any reliable oob estimates.\n",
      "  warn(\"Some inputs do not have OOB scores. \"\n",
      "/Users/ying/anaconda2/envs/bios8366/lib/python3.6/site-packages/sklearn/ensemble/forest.py:451: UserWarning: Some inputs do not have OOB scores. This probably means too few trees were used to compute any reliable oob estimates.\n",
      "  warn(\"Some inputs do not have OOB scores. \"\n",
      "/Users/ying/anaconda2/envs/bios8366/lib/python3.6/site-packages/sklearn/ensemble/forest.py:451: UserWarning: Some inputs do not have OOB scores. This probably means too few trees were used to compute any reliable oob estimates.\n",
      "  warn(\"Some inputs do not have OOB scores. \"\n",
      "/Users/ying/anaconda2/envs/bios8366/lib/python3.6/site-packages/sklearn/ensemble/forest.py:451: UserWarning: Some inputs do not have OOB scores. This probably means too few trees were used to compute any reliable oob estimates.\n",
      "  warn(\"Some inputs do not have OOB scores. \"\n",
      "/Users/ying/anaconda2/envs/bios8366/lib/python3.6/site-packages/sklearn/ensemble/forest.py:451: UserWarning: Some inputs do not have OOB scores. This probably means too few trees were used to compute any reliable oob estimates.\n",
      "  warn(\"Some inputs do not have OOB scores. \"\n",
      "/Users/ying/anaconda2/envs/bios8366/lib/python3.6/site-packages/sklearn/ensemble/forest.py:451: UserWarning: Some inputs do not have OOB scores. This probably means too few trees were used to compute any reliable oob estimates.\n",
      "  warn(\"Some inputs do not have OOB scores. \"\n",
      "/Users/ying/anaconda2/envs/bios8366/lib/python3.6/site-packages/sklearn/ensemble/forest.py:451: UserWarning: Some inputs do not have OOB scores. This probably means too few trees were used to compute any reliable oob estimates.\n",
      "  warn(\"Some inputs do not have OOB scores. \"\n",
      "/Users/ying/anaconda2/envs/bios8366/lib/python3.6/site-packages/sklearn/ensemble/forest.py:451: UserWarning: Some inputs do not have OOB scores. This probably means too few trees were used to compute any reliable oob estimates.\n",
      "  warn(\"Some inputs do not have OOB scores. \"\n"
     ]
    },
    {
     "data": {
      "image/png": "[encoded data removed]",
      "text/plain": [
       "<matplotlib.figure.Figure at 0x11d341710>"
      ]
     },
     "metadata": {},
     "output_type": "display_data"
    }
   ],
   "source": [
    "#include plots against a suitably-chosen range of values for these parameters\n",
    "#use oob score as measure of performance\n",
    "#n_estimators\n",
    "def rfscore_nest(X,y,M=30):\n",
    "    score = np.zeros(M)\n",
    "    \n",
    "    X_train, X_test, y_train, y_test = model_selection.train_test_split(\n",
    "        X, y, test_size=0.4, random_state=0)\n",
    "    \n",
    "    for m in np.arange(1,M):\n",
    "        value=m\n",
    "        rf = RandomForestClassifier(n_jobs=20, n_estimators=value,bootstrap=True, criterion='entropy',oob_score=True)\n",
    "        rf.fit(X_train, y_train)\n",
    "        preds = rf.predict(X_test)\n",
    "        #pd.crosstab(y_test, preds, rownames=['actual'], \n",
    "           # colnames=['prediction'])\n",
    "        score[value]=rf.oob_score_\n",
    "    #return score\n",
    "\n",
    "    plt.plot(range(M), score)\n",
    "    plt.xlabel('n estimator')\n",
    "    plt.ylabel('oob')\n",
    "    \n",
    "rfscore_nest(X,y)"
   ]
  },
  {
   "cell_type": "code",
   "execution_count": 153,
   "metadata": {},
   "outputs": [
    {
     "name": "stderr",
     "output_type": "stream",
     "text": [
      "/Users/ying/anaconda2/envs/bios8366/lib/python3.6/site-packages/sklearn/ensemble/forest.py:451: UserWarning: Some inputs do not have OOB scores. This probably means too few trees were used to compute any reliable oob estimates.\n",
      "  warn(\"Some inputs do not have OOB scores. \"\n",
      "/Users/ying/anaconda2/envs/bios8366/lib/python3.6/site-packages/sklearn/ensemble/forest.py:451: UserWarning: Some inputs do not have OOB scores. This probably means too few trees were used to compute any reliable oob estimates.\n",
      "  warn(\"Some inputs do not have OOB scores. \"\n",
      "/Users/ying/anaconda2/envs/bios8366/lib/python3.6/site-packages/sklearn/ensemble/forest.py:451: UserWarning: Some inputs do not have OOB scores. This probably means too few trees were used to compute any reliable oob estimates.\n",
      "  warn(\"Some inputs do not have OOB scores. \"\n",
      "/Users/ying/anaconda2/envs/bios8366/lib/python3.6/site-packages/sklearn/ensemble/forest.py:451: UserWarning: Some inputs do not have OOB scores. This probably means too few trees were used to compute any reliable oob estimates.\n",
      "  warn(\"Some inputs do not have OOB scores. \"\n",
      "/Users/ying/anaconda2/envs/bios8366/lib/python3.6/site-packages/sklearn/ensemble/forest.py:451: UserWarning: Some inputs do not have OOB scores. This probably means too few trees were used to compute any reliable oob estimates.\n",
      "  warn(\"Some inputs do not have OOB scores. \"\n",
      "/Users/ying/anaconda2/envs/bios8366/lib/python3.6/site-packages/sklearn/ensemble/forest.py:451: UserWarning: Some inputs do not have OOB scores. This probably means too few trees were used to compute any reliable oob estimates.\n",
      "  warn(\"Some inputs do not have OOB scores. \"\n",
      "/Users/ying/anaconda2/envs/bios8366/lib/python3.6/site-packages/sklearn/ensemble/forest.py:451: UserWarning: Some inputs do not have OOB scores. This probably means too few trees were used to compute any reliable oob estimates.\n",
      "  warn(\"Some inputs do not have OOB scores. \"\n",
      "/Users/ying/anaconda2/envs/bios8366/lib/python3.6/site-packages/sklearn/ensemble/forest.py:451: UserWarning: Some inputs do not have OOB scores. This probably means too few trees were used to compute any reliable oob estimates.\n",
      "  warn(\"Some inputs do not have OOB scores. \"\n",
      "/Users/ying/anaconda2/envs/bios8366/lib/python3.6/site-packages/sklearn/ensemble/forest.py:451: UserWarning: Some inputs do not have OOB scores. This probably means too few trees were used to compute any reliable oob estimates.\n",
      "  warn(\"Some inputs do not have OOB scores. \"\n"
     ]
    },
    {
     "data": {
      "image/png": "[encoded data removed]",
      "text/plain": [
       "<matplotlib.figure.Figure at 0x12995fdd8>"
      ]
     },
     "metadata": {},
     "output_type": "display_data"
    }
   ],
   "source": [
    "#include plots against a suitably-chosen range of values for these parameters\n",
    "#n_estimators\n",
    "def rfscore_maxdep(X,y,M=10):\n",
    "    score = np.zeros(M)\n",
    "    \n",
    "    X_train, X_test, y_train, y_test = model_selection.train_test_split(\n",
    "        X, y, test_size=0.4, random_state=0)\n",
    "    \n",
    "    for m in np.arange(1,M):\n",
    "        value=m\n",
    "        rf = RandomForestClassifier(n_jobs=20, n_estimators=10,max_depth=value, bootstrap=True, criterion='entropy',oob_score=True)\n",
    "        rf.fit(X_train, y_train)\n",
    "        preds = rf.predict(X_test)\n",
    "        #pd.crosstab(y_test, preds, rownames=['actual'], \n",
    "           # colnames=['prediction'])\n",
    "        score[value]=rf.oob_score_\n",
    "    #return score\n",
    "\n",
    "    plt.plot(range(M), score)\n",
    "    plt.xlabel('max depth')\n",
    "    plt.ylabel('oob')\n",
    "    \n",
    "rfscore_maxdep(X,y)"
   ]
  },
  {
   "cell_type": "code",
   "execution_count": 154,
   "metadata": {},
   "outputs": [
    {
     "name": "stderr",
     "output_type": "stream",
     "text": [
      "/Users/ying/anaconda2/envs/bios8366/lib/python3.6/site-packages/sklearn/ensemble/forest.py:451: UserWarning: Some inputs do not have OOB scores. This probably means too few trees were used to compute any reliable oob estimates.\n",
      "  warn(\"Some inputs do not have OOB scores. \"\n",
      "/Users/ying/anaconda2/envs/bios8366/lib/python3.6/site-packages/sklearn/ensemble/forest.py:451: UserWarning: Some inputs do not have OOB scores. This probably means too few trees were used to compute any reliable oob estimates.\n",
      "  warn(\"Some inputs do not have OOB scores. \"\n",
      "/Users/ying/anaconda2/envs/bios8366/lib/python3.6/site-packages/sklearn/ensemble/forest.py:451: UserWarning: Some inputs do not have OOB scores. This probably means too few trees were used to compute any reliable oob estimates.\n",
      "  warn(\"Some inputs do not have OOB scores. \"\n",
      "/Users/ying/anaconda2/envs/bios8366/lib/python3.6/site-packages/sklearn/ensemble/forest.py:451: UserWarning: Some inputs do not have OOB scores. This probably means too few trees were used to compute any reliable oob estimates.\n",
      "  warn(\"Some inputs do not have OOB scores. \"\n",
      "/Users/ying/anaconda2/envs/bios8366/lib/python3.6/site-packages/sklearn/ensemble/forest.py:451: UserWarning: Some inputs do not have OOB scores. This probably means too few trees were used to compute any reliable oob estimates.\n",
      "  warn(\"Some inputs do not have OOB scores. \"\n",
      "/Users/ying/anaconda2/envs/bios8366/lib/python3.6/site-packages/sklearn/ensemble/forest.py:451: UserWarning: Some inputs do not have OOB scores. This probably means too few trees were used to compute any reliable oob estimates.\n",
      "  warn(\"Some inputs do not have OOB scores. \"\n",
      "/Users/ying/anaconda2/envs/bios8366/lib/python3.6/site-packages/sklearn/ensemble/forest.py:451: UserWarning: Some inputs do not have OOB scores. This probably means too few trees were used to compute any reliable oob estimates.\n",
      "  warn(\"Some inputs do not have OOB scores. \"\n",
      "/Users/ying/anaconda2/envs/bios8366/lib/python3.6/site-packages/sklearn/ensemble/forest.py:451: UserWarning: Some inputs do not have OOB scores. This probably means too few trees were used to compute any reliable oob estimates.\n",
      "  warn(\"Some inputs do not have OOB scores. \"\n",
      "/Users/ying/anaconda2/envs/bios8366/lib/python3.6/site-packages/sklearn/ensemble/forest.py:451: UserWarning: Some inputs do not have OOB scores. This probably means too few trees were used to compute any reliable oob estimates.\n",
      "  warn(\"Some inputs do not have OOB scores. \"\n"
     ]
    },
    {
     "data": {
      "image/png": "[encoded data removed]",
      "text/plain": [
       "<matplotlib.figure.Figure at 0x14ee746d8>"
      ]
     },
     "metadata": {},
     "output_type": "display_data"
    }
   ],
   "source": [
    "#include plots against a suitably-chosen range of values for these parameters\n",
    "#n_estimators\n",
    "def rfscore_maxfea(X,y,M=10):\n",
    "    score = np.zeros(M)\n",
    "    \n",
    "    X_train, X_test, y_train, y_test = model_selection.train_test_split(\n",
    "        X, y, test_size=0.4, random_state=0)\n",
    "    \n",
    "    for m in np.arange(1,M):\n",
    "        value=m\n",
    "        rf = RandomForestClassifier(n_jobs=20, n_estimators=10,max_depth=value,max_features=value, bootstrap=True, criterion='entropy',oob_score=True)\n",
    "        rf.fit(X_train, y_train)\n",
    "        preds = rf.predict(X_test)\n",
    "        #pd.crosstab(y_test, preds, rownames=['actual'], \n",
    "           # colnames=['prediction'])\n",
    "        score[value]=rf.oob_score_\n",
    "    #return score\n",
    "\n",
    "    plt.plot(range(M), score)\n",
    "    plt.xlabel('max features')\n",
    "    plt.ylabel('oob')\n",
    "    \n",
    "rfscore_maxfea(X,y)"
   ]
  },
  {
   "cell_type": "markdown",
   "metadata": {},
   "source": [
    "I use oob score as measure of evidence since all of the classfier use bootstrap to split samples, so it makes sense to use oob score.\n",
    "Here we find:\n",
    "sensitivity to the parameters \n",
    "`max_features`, the number of variables considered for splitting at each step, from plot we find after max_feature-2, performance is very stable\n",
    "`max_depth`, the maximum depth of the tree, we find after max depth=1 (n_estimator=10), performance is stable\n",
    "`n_estimators`, the number of trees in the forest, we find after n_estimators>5, performance is very stable"
   ]
  },
  {
   "cell_type": "markdown",
   "metadata": {},
   "source": [
    "## Question 4\n",
    "\n",
    "Use a grid search to optimize the number of estimators and max_depth for a Gradient Boosted Decision tree using the Wisconsin breast cancer data. Plug this optimal ``max_depth`` into a *single* decision tree.  Does this single tree over-fit or under-fit the data? Repeat this for the Random Forest.  Construct a single decision tree using the ``max_depth`` which is optimal for the Random Forest.  Does this single tree over-fit or under-fit the data?"
   ]
  },
  {
   "cell_type": "markdown",
   "metadata": {},
   "source": [
    "## gradient boosted decison tree"
   ]
  },
  {
   "cell_type": "code",
   "execution_count": null,
   "metadata": {},
   "outputs": [],
   "source": [
    "# Write your work here\n",
    "#optimize parameters: find best parameters for n_estimators and max_depth\n",
    "from sklearn.ensemble import GradientBoostingClassifier\n",
    "from sklearn.model_selection import GridSearchCV\n",
    "\n",
    "param_grid = {\n",
    "    'n_estimators':[20,100,200,300,400,500,1000,2000,3000],\n",
    "              'max_depth': [1,2,3,4,5,6,7,8,9,10]\n",
    "              }\n",
    "\n",
    "est = GradientBoostingClassifier() #tree number=200 here\n",
    "\n",
    "# this may take some minutes\n",
    "gs_cv = GridSearchCV(est, param_grid, n_jobs=4).fit(X_train, y_train)\n",
    "\n",
    "# best hyperparameter setting\n",
    "gs_cv.best_params_\n"
   ]
  },
  {
   "cell_type": "code",
   "execution_count": null,
   "metadata": {},
   "outputs": [],
   "source": [
    "#put these parameters in a single tree\n",
    "est = GradientBoostingClassifier(n_estimators=1000, max_depth=1,\n",
    "                                 random_state=0)\n",
    "est.fit(X_train, y_train)\n",
    "\n",
    "\n",
    "\n",
    "# predict class labels\n",
    "pred = est.predict(X_test)\n",
    "\n",
    "# score on test data (accuracy)\n",
    "acc = est.score(X_test, y_test)\n",
    "print('ACC: %.4f' % acc)\n"
   ]
  },
  {
   "cell_type": "code",
   "execution_count": 134,
   "metadata": {},
   "outputs": [
    {
     "data": {
      "text/plain": [
       "array([ 1.18565455,  1.07280753,  0.97688707,  0.89840981,  0.82819528,\n",
       "        0.76924794,  0.71704458,  0.67046125,  0.62946929,  0.59395891,\n",
       "        0.56036323,  0.53138277,  0.50523308,  0.48022251,  0.45918046,\n",
       "        0.43867928,  0.4213816 ,  0.40532991,  0.39002575,  0.37611578,\n",
       "        0.36403774,  0.35290663,  0.34266789,  0.33330908,  0.32367131,\n",
       "        0.31504451,  0.30710307,  0.29928486,  0.29241476,  0.28510927,\n",
       "        0.27858684,  0.27265605,  0.26685413,  0.26152183,  0.25611223,\n",
       "        0.25356528,  0.24884408,  0.24430273,  0.24015   ,  0.23602745,\n",
       "        0.23491422,  0.23027059,  0.22827991,  0.22440456,  0.22350873,\n",
       "        0.22002816,  0.21660364,  0.21325369,  0.21251176,  0.20956811,\n",
       "        0.20798915,  0.20459747,  0.20165802,  0.19906044,  0.19684562,\n",
       "        0.19427665,  0.1919178 ,  0.18935767,  0.18693768,  0.18469095,\n",
       "        0.18417312,  0.18233696,  0.18026415,  0.17827911,  0.17716709,\n",
       "        0.1765567 ,  0.17469977,  0.17345724,  0.17153767,  0.16962553,\n",
       "        0.16749561,  0.16685369,  0.16528255,  0.16477418,  0.16380834,\n",
       "        0.16220817,  0.16064178,  0.15975424,  0.15818373,  0.15781628,\n",
       "        0.1563692 ,  0.1555009 ,  0.15395087,  0.15255186,  0.15131803,\n",
       "        0.15056883,  0.14928774,  0.14889986,  0.14761912,  0.14604099,\n",
       "        0.14572244,  0.14450818,  0.14321533,  0.14255268,  0.14139168,\n",
       "        0.13972493,  0.13831406,  0.13712543,  0.13684333,  0.13564418,\n",
       "        0.13451196,  0.13407236,  0.13280573,  0.13177228,  0.13124434,\n",
       "        0.12974876,  0.12948857,  0.12807812,  0.12727337,  0.12631172,\n",
       "        0.12523973,  0.12429807,  0.1230256 ,  0.12278602,  0.12185663,\n",
       "        0.12063992,  0.1197308 ,  0.11864898,  0.11772183,  0.1174062 ,\n",
       "        0.11689638,  0.1156093 ,  0.11492955,  0.11451137,  0.11345824,\n",
       "        0.11259797,  0.1115838 ,  0.11037922,  0.10947228,  0.10864808,\n",
       "        0.10844984,  0.10769028,  0.10649077,  0.10614302,  0.10541191,\n",
       "        0.10449222,  0.10429818,  0.10340457,  0.10248698,  0.10175582,\n",
       "        0.10070551,  0.09994149,  0.09950927,  0.09874736,  0.09809294,\n",
       "        0.09748381,  0.09681261,  0.09603541,  0.0953454 ,  0.09442498,\n",
       "        0.09366895,  0.09289269,  0.09234309,  0.09137193,  0.09074317,\n",
       "        0.08989777,  0.08965269,  0.08895601,  0.08846551,  0.08781561,\n",
       "        0.08712385,  0.08653134,  0.08598698,  0.08531175,  0.08508835,\n",
       "        0.08448828,  0.08373181,  0.08301476,  0.08234493,  0.08194341,\n",
       "        0.08136432,  0.08070726,  0.0800727 ,  0.07946734,  0.07884797,\n",
       "        0.07869432,  0.07791721,  0.07776573,  0.07726009,  0.07670583,\n",
       "        0.07623363,  0.07566731,  0.07543659,  0.07502686,  0.07446115,\n",
       "        0.07396405,  0.07342969,  0.07287863,  0.0727445 ,  0.07255909,\n",
       "        0.07190039,  0.07138665,  0.07088714,  0.07040005,  0.07018868,\n",
       "        0.06975348,  0.06908216,  0.0685154 ,  0.06794976,  0.0678256 ,\n",
       "        0.06734475,  0.06691116,  0.06679038,  0.06631972,  0.06593193,\n",
       "        0.06543031,  0.06517395,  0.06472695,  0.06431853,  0.06396714,\n",
       "        0.06349448,  0.06310274,  0.06258164,  0.06215892,  0.0617217 ,\n",
       "        0.06134355,  0.06107214,  0.06089234,  0.06048099,  0.06032169,\n",
       "        0.05995775,  0.05958531,  0.05919743,  0.05873199,  0.05819259,\n",
       "        0.05779917,  0.05743272,  0.05703231,  0.0569253 ,  0.05672803,\n",
       "        0.05643792,  0.05608384,  0.05572811,  0.05537338,  0.05502353,\n",
       "        0.05464224,  0.05431777,  0.05393624,  0.05378407,  0.05368847,\n",
       "        0.05355427,  0.0531991 ,  0.05280493,  0.05247253,  0.05214404,\n",
       "        0.05182517,  0.05136384,  0.05097144,  0.05067783,  0.05042792,\n",
       "        0.05033848,  0.05000184,  0.0496151 ,  0.04927693,  0.04918596,\n",
       "        0.04886424,  0.04856853,  0.04828707,  0.04800348,  0.04785643,\n",
       "        0.04754396,  0.04742257,  0.04733365,  0.04693036,  0.04666164,\n",
       "        0.04632064,  0.04601436,  0.04578324,  0.04548654,  0.04511431,\n",
       "        0.04503143,  0.04476818,  0.04448958,  0.04419562,  0.04393283,\n",
       "        0.04361007,  0.04334374,  0.04326465,  0.04305419,  0.04292836,\n",
       "        0.04272256,  0.04244674,  0.04233011,  0.04211798,  0.0418143 ,\n",
       "        0.0414956 ,  0.04124467,  0.04092454,  0.04080161,  0.04054784,\n",
       "        0.04034344,  0.0400835 ,  0.0398502 ,  0.03961327,  0.03939923,\n",
       "        0.03917278,  0.03906606,  0.03887824,  0.03870199,  0.03858766,\n",
       "        0.03827551,  0.0381727 ,  0.03795397,  0.03775087,  0.03751071,\n",
       "        0.03730043,  0.03707615,  0.03689133,  0.03661397,  0.0363776 ,\n",
       "        0.03631323,  0.03611879,  0.03590393,  0.03565373,  0.03555725,\n",
       "        0.03535613,  0.03515218,  0.03493436,  0.03474695,  0.0345812 ,\n",
       "        0.0343463 ,  0.03425396,  0.03399343,  0.03380269,  0.0337447 ,\n",
       "        0.03350323,  0.03330054,  0.03323958,  0.03295552,  0.03279924,\n",
       "        0.03259704,  0.03240185,  0.03220761,  0.03196611,  0.0317933 ,\n",
       "        0.03171305,  0.03154127,  0.03134706,  0.0311254 ,  0.03096158,\n",
       "        0.03078689,  0.03073048,  0.0306537 ,  0.03046095,  0.03038062,\n",
       "        0.0301999 ,  0.03005452,  0.02987114,  0.02966675,  0.02951222,\n",
       "        0.02935602,  0.0291398 ,  0.02889683,  0.02876504,  0.02860165,\n",
       "        0.02855098,  0.02833387,  0.02826651,  0.02813222,  0.02796205,\n",
       "        0.02783027,  0.02770332,  0.02763264,  0.02755344,  0.02736561,\n",
       "        0.02722137,  0.02707325,  0.02692969,  0.02676796,  0.02670524,\n",
       "        0.02658484,  0.02639469,  0.02625589,  0.02612668,  0.02598633,\n",
       "        0.02582943,  0.02571247,  0.02553726,  0.02537924,  0.02525189,\n",
       "        0.02520748,  0.02505897,  0.02490588,  0.02478472,  0.02465058,\n",
       "        0.02452136,  0.02441483,  0.02422247,  0.02418004,  0.02411915,\n",
       "        0.02394726,  0.02380534,  0.02365779,  0.02354506,  0.02342354,\n",
       "        0.02330299,  0.02316247,  0.02312219,  0.02299014,  0.02286733,\n",
       "        0.02281756,  0.02266629,  0.0225323 ,  0.0224235 ,  0.02236874,\n",
       "        0.0223197 ,  0.02215396,  0.02208015,  0.02197262,  0.02181652,\n",
       "        0.0217076 ,  0.02158172,  0.02153457,  0.02140624,  0.02128215,\n",
       "        0.0211883 ,  0.02110171,  0.02100019,  0.02088581,  0.02074018,\n",
       "        0.02063202,  0.0205086 ,  0.02045618,  0.02031756,  0.0202195 ,\n",
       "        0.02007069,  0.01996789,  0.01987848,  0.01978476,  0.01974164,\n",
       "        0.01963188,  0.0194673 ,  0.01935428,  0.01927326,  0.01924011,\n",
       "        0.01913012,  0.0189974 ,  0.01888758,  0.01878674,  0.01869643,\n",
       "        0.01857476,  0.0184311 ,  0.01834826,  0.01831753,  0.01827262,\n",
       "        0.01816864,  0.01807363,  0.01799838,  0.01789189,  0.01780632,\n",
       "        0.01776707,  0.01768321,  0.01760025,  0.01752511,  0.01742914,\n",
       "        0.01732722,  0.01724382,  0.01716063,  0.01712433,  0.01706649,\n",
       "        0.01703756,  0.01699587,  0.01688564,  0.01678955,  0.01667373,\n",
       "        0.01659049,  0.01651397,  0.01643116,  0.01632548,  0.01624133,\n",
       "        0.01616164,  0.01606923,  0.0160354 ,  0.0159243 ,  0.01584163,\n",
       "        0.01574015,  0.01566734,  0.01557904,  0.01549079,  0.01541236,\n",
       "        0.01534752,  0.01521708,  0.01513388,  0.01504888,  0.01498876,\n",
       "        0.01495834,  0.01487434,  0.01480163,  0.01473254,  0.01465339,\n",
       "        0.01462382,  0.01455434,  0.01452941,  0.01446401,  0.01439222,\n",
       "        0.01431081,  0.01422735,  0.0141931 ,  0.01412122,  0.01402652,\n",
       "        0.01395705,  0.01386975,  0.01380007,  0.01372422,  0.01365843,\n",
       "        0.01362439,  0.01356401,  0.013479  ,  0.01340047,  0.01337799,\n",
       "        0.01330998,  0.01323401,  0.01316981,  0.01313825,  0.01307941,\n",
       "        0.01297276,  0.01290649,  0.01286344,  0.01281176,  0.01274897,\n",
       "        0.01272231,  0.01267136,  0.0125983 ,  0.01252898,  0.01248324,\n",
       "        0.01241403,  0.01233604,  0.0122708 ,  0.01221285,  0.01214293,\n",
       "        0.01206122,  0.01198225,  0.01189627,  0.01183712,  0.01178059,\n",
       "        0.01172693,  0.01166689,  0.01164663,  0.01160147,  0.01153549,\n",
       "        0.01147662,  0.01145366,  0.0113708 ,  0.0113144 ,  0.01127063,\n",
       "        0.01124793,  0.0111876 ,  0.01113368,  0.01111502,  0.01108767,\n",
       "        0.01101379,  0.01095349,  0.01090813,  0.01085714,  0.01080094,\n",
       "        0.01075146,  0.0107299 ,  0.01067859,  0.0106237 ,  0.01060594,\n",
       "        0.01055979,  0.01050805,  0.01045339,  0.01039603,  0.01033765,\n",
       "        0.0102743 ,  0.01025407,  0.01022043,  0.01017337,  0.01012877,\n",
       "        0.01007464,  0.01002692,  0.00997409,  0.00995002,  0.00989498,\n",
       "        0.00984803,  0.00980056,  0.00974559,  0.00969925,  0.00965132,\n",
       "        0.00963502,  0.00955663,  0.00949085,  0.00944137,  0.00939317,\n",
       "        0.00934756,  0.00928976,  0.00924365,  0.00918521,  0.00914699,\n",
       "        0.00910171,  0.00904018,  0.00899741,  0.0089462 ,  0.00892822,\n",
       "        0.00888671,  0.00885262,  0.00880346,  0.00876639,  0.00870948,\n",
       "        0.00866296,  0.00864187,  0.00860173,  0.00857006,  0.00853335,\n",
       "        0.00848793,  0.00846686,  0.00842191,  0.00840803,  0.00835579,\n",
       "        0.00829575,  0.00826134,  0.00822094,  0.00816667,  0.00812078,\n",
       "        0.00808893,  0.00805232,  0.00799552,  0.00795927,  0.0079436 ,\n",
       "        0.00790583,  0.00786918,  0.00785436,  0.0078005 ,  0.00774524,\n",
       "        0.00770325,  0.00766622,  0.00762677,  0.00759454,  0.00755735,\n",
       "        0.00752331,  0.00748212,  0.00746381,  0.00745159,  0.00742752,\n",
       "        0.00738727,  0.00735057,  0.0073331 ,  0.00728571,  0.00725147,\n",
       "        0.00721418,  0.00718827,  0.00714956,  0.00711657,  0.00707744,\n",
       "        0.00705766,  0.00701482,  0.0070003 ,  0.00697085,  0.00693886,\n",
       "        0.00690002,  0.00686491,  0.00683063,  0.00679904,  0.00676647,\n",
       "        0.00672602,  0.00671473,  0.00668397,  0.00665132,  0.00661825,\n",
       "        0.00658878,  0.00657626,  0.0065406 ,  0.00651521,  0.00648382,\n",
       "        0.00644928,  0.00642389,  0.00640845,  0.00637848,  0.00635228,\n",
       "        0.00631251,  0.00628024,  0.00626975,  0.00623884,  0.00621581,\n",
       "        0.00618181,  0.00614356,  0.00611913,  0.00610492,  0.00607655,\n",
       "        0.00602667,  0.00601492,  0.00597611,  0.00594619,  0.00592248,\n",
       "        0.00591268,  0.00587697,  0.00584973,  0.00582047,  0.00578843,\n",
       "        0.00576111,  0.00574705,  0.00572669,  0.00568738,  0.00566256,\n",
       "        0.00563273,  0.00560929,  0.00558223,  0.00554202,  0.00551742,\n",
       "        0.00547775,  0.00545541,  0.00544632,  0.00542221,  0.00539688,\n",
       "        0.00537217,  0.00536212,  0.00533037,  0.00530109,  0.00527836,\n",
       "        0.00525923,  0.00523105,  0.0052059 ,  0.00517806,  0.00514528,\n",
       "        0.00513316,  0.00510755,  0.00508171,  0.00505406,  0.00503129,\n",
       "        0.00500787,  0.00498279,  0.00495967,  0.00493443,  0.00491143,\n",
       "        0.00488713,  0.00487901,  0.00484902,  0.00482601,  0.00481457,\n",
       "        0.0047862 ,  0.0047773 ,  0.00474508,  0.00473368,  0.00471224,\n",
       "        0.00469074,  0.00466939,  0.0046484 ,  0.00462629,  0.00459466,\n",
       "        0.00457448,  0.00455025,  0.00453093,  0.00450193,  0.00447802,\n",
       "        0.00447063,  0.00443873,  0.00442126,  0.00439966,  0.00438029,\n",
       "        0.00435775,  0.00434748,  0.00432436,  0.00430623,  0.00428589,\n",
       "        0.00426755,  0.00424383,  0.00422474,  0.00421697,  0.00419681,\n",
       "        0.00417439,  0.00414913,  0.00412862,  0.00410706,  0.00408808,\n",
       "        0.00406756,  0.00405317,  0.00403205,  0.00401778,  0.00399962,\n",
       "        0.00398216,  0.00396347,  0.00394388,  0.0039153 ,  0.0038837 ,\n",
       "        0.00386542,  0.00384749,  0.00384033,  0.00381874,  0.0037927 ,\n",
       "        0.00377294,  0.00375829,  0.00373754,  0.00371501,  0.00369241,\n",
       "        0.00367611,  0.00365898,  0.00364412,  0.00362785,  0.00360515,\n",
       "        0.00358578,  0.00357317,  0.00355406,  0.00353724,  0.00351332,\n",
       "        0.0035051 ,  0.00349937,  0.00348695,  0.00347108,  0.00345654,\n",
       "        0.00344053,  0.00343243,  0.00341071,  0.00338677,  0.00337388,\n",
       "        0.00335473,  0.00334932,  0.00333848,  0.00331758,  0.0033033 ,\n",
       "        0.00329724,  0.00328005,  0.00326411,  0.00324984,  0.0032355 ,\n",
       "        0.00322106,  0.00320466,  0.0031971 ,  0.00318238,  0.00316713,\n",
       "        0.00315974,  0.00315459,  0.0031382 ,  0.00312333,  0.0031085 ,\n",
       "        0.00308699,  0.00306766,  0.0030546 ,  0.00304129,  0.00302527,\n",
       "        0.00301166,  0.00299781,  0.00298271,  0.00296767,  0.00296229,\n",
       "        0.00294869,  0.00293035,  0.00291811,  0.00290687,  0.00289094,\n",
       "        0.00287624,  0.00286333,  0.00285638,  0.00284328,  0.00283655,\n",
       "        0.00282366,  0.0028088 ,  0.00279883,  0.0027863 ,  0.00277461,\n",
       "        0.00276001,  0.00274828,  0.00273919,  0.00272073,  0.00270816,\n",
       "        0.00269468,  0.00267288,  0.0026679 ,  0.00266356,  0.00264796,\n",
       "        0.00263592,  0.00262153,  0.00260779,  0.00260181,  0.00259014,\n",
       "        0.00258007,  0.00256597,  0.00255369,  0.00254008,  0.00253064,\n",
       "        0.00251941,  0.00250853,  0.0025    ,  0.00248439,  0.00246718,\n",
       "        0.00245756,  0.00244623,  0.00243598,  0.00242501,  0.00241014,\n",
       "        0.00239917,  0.00239466,  0.00237843,  0.00236799,  0.00235769,\n",
       "        0.00235379,  0.00234335,  0.00233419,  0.00232204,  0.00231011,\n",
       "        0.00230476,  0.00229472,  0.0022845 ,  0.00227135,  0.0022673 ,\n",
       "        0.00225653,  0.00224083,  0.00223059,  0.00222541,  0.00221488,\n",
       "        0.00220423,  0.0021927 ,  0.00218752,  0.00217825,  0.00216948,\n",
       "        0.00215983,  0.00214998,  0.00213886,  0.00213534,  0.00212624,\n",
       "        0.00211882,  0.00210788,  0.00209747,  0.00208893,  0.00207638,\n",
       "        0.00206452,  0.00206106,  0.00205155,  0.00203978,  0.00203283,\n",
       "        0.00202354,  0.00200944,  0.00200267,  0.00199479,  0.00198542,\n",
       "        0.0019716 ,  0.00196151,  0.00194917,  0.00193971,  0.00192661,\n",
       "        0.00191744,  0.00190858,  0.00190041,  0.00189283,  0.00188251,\n",
       "        0.00187394,  0.00186489,  0.00186139,  0.00185288,  0.00184197,\n",
       "        0.00183061,  0.00182221,  0.00181253,  0.00180524,  0.00179448,\n",
       "        0.00178492,  0.00178074,  0.00176667,  0.00176352,  0.00175563,\n",
       "        0.00174721,  0.00173954,  0.00173277,  0.00172384,  0.00171575,\n",
       "        0.00170784,  0.00169993,  0.00169099,  0.00168821,  0.00168442,\n",
       "        0.0016787 ,  0.00167089,  0.00166326,  0.00165334,  0.0016506 ,\n",
       "        0.00164332,  0.00163747,  0.00163479,  0.00162584,  0.0016187 ,\n",
       "        0.0016108 ,  0.00160441,  0.00159715,  0.00158963,  0.00158141,\n",
       "        0.00157449,  0.00156845,  0.0015649 ,  0.00155564,  0.00154634,\n",
       "        0.00153921,  0.00153108,  0.00152368,  0.00151691,  0.00151034,\n",
       "        0.00150462,  0.0014979 ,  0.00149105,  0.00148864,  0.00148178,\n",
       "        0.00147428,  0.00146651,  0.00146324,  0.00145687,  0.00145094,\n",
       "        0.00144585,  0.00143945,  0.00143379,  0.00142622,  0.00141953])"
      ]
     },
     "execution_count": 134,
     "metadata": {},
     "output_type": "execute_result"
    }
   ],
   "source": [
    "#overfit or undefit data?\n",
    "#score from training data\n",
    "est.train_score_\n",
    "\n",
    "#compare test data score with train score, the test score and train score are similar, so we think this tree didn't overfit data\n"
   ]
  },
  {
   "cell_type": "markdown",
   "metadata": {},
   "source": [
    "## random forest"
   ]
  },
  {
   "cell_type": "code",
   "execution_count": 147,
   "metadata": {},
   "outputs": [
    {
     "data": {
      "text/plain": [
       "{'max_depth': 8, 'n_estimators': 200}"
      ]
     },
     "execution_count": 147,
     "metadata": {},
     "output_type": "execute_result"
    }
   ],
   "source": [
    "#random forest,find \"best parameter\" by grid search\n",
    "param_grid = {\n",
    "    'n_estimators':[20,100,200,300,400,500,1000,2000,3000],\n",
    "              'max_depth': [1,2,3,4,5,6,7,8,9,10]\n",
    "              }\n",
    "\n",
    "rf=RandomForestClassifier()\n",
    "\n",
    "# this may take some minutes\n",
    "rf_cv = GridSearchCV(rf, param_grid, n_jobs=4).fit(X_train, y_train)\n",
    "\n",
    "# best hyperparameter setting\n",
    "rf_cv.best_params_\n"
   ]
  },
  {
   "cell_type": "code",
   "execution_count": 148,
   "metadata": {},
   "outputs": [
    {
     "name": "stdout",
     "output_type": "stream",
     "text": [
      "ACC: 0.9386\n"
     ]
    }
   ],
   "source": [
    "\n",
    "#put these parameters in a single tree\n",
    "rf = RandomForestClassifier(n_estimators=200, max_depth=8,\n",
    "                                 n_jobs=4)\n",
    "rf.fit(X_train, y_train)\n",
    "\n",
    "# predict class labels\n",
    "pred = rf.predict(X_test)\n",
    "\n",
    "# score on test data (accuracy)\n",
    "acc = rf.score(X_test, y_test)\n",
    "print('ACC: %.4f' % acc)"
   ]
  },
  {
   "cell_type": "code",
   "execution_count": 171,
   "metadata": {},
   "outputs": [
    {
     "ename": "AttributeError",
     "evalue": "'RandomForestClassifier' object has no attribute 'train_score_'",
     "output_type": "error",
     "traceback": [
      "\u001b[0;31m---------------------------------------------------------------------------\u001b[0m",
      "\u001b[0;31mAttributeError\u001b[0m                            Traceback (most recent call last)",
      "\u001b[0;32m<ipython-input-171-9c9c0ec6fa6d>\u001b[0m in \u001b[0;36m<module>\u001b[0;34m()\u001b[0m\n\u001b[1;32m      1\u001b[0m \u001b[0;31m#overfit or undefit data?\u001b[0m\u001b[0;34m\u001b[0m\u001b[0;34m\u001b[0m\u001b[0m\n\u001b[1;32m      2\u001b[0m \u001b[0;31m#score from training data\u001b[0m\u001b[0;34m\u001b[0m\u001b[0;34m\u001b[0m\u001b[0m\n\u001b[0;32m----> 3\u001b[0;31m \u001b[0mrf\u001b[0m\u001b[0;34m.\u001b[0m\u001b[0mtrain_score_\u001b[0m\u001b[0;34m\u001b[0m\u001b[0m\n\u001b[0m\u001b[1;32m      4\u001b[0m \u001b[0;31m#compare test data score with train score, the test score and train score are similar, so we think this tree didn't overfit data\u001b[0m\u001b[0;34m\u001b[0m\u001b[0;34m\u001b[0m\u001b[0m\n",
      "\u001b[0;31mAttributeError\u001b[0m: 'RandomForestClassifier' object has no attribute 'train_score_'"
     ]
    }
   ],
   "source": [
    "#overfit or undefit data?\n",
    "\n",
    "#from test score, so we think this random forest did overfit data\n"
   ]
  }
 ],
 "metadata": {
  "anaconda-cloud": {},
  "kernelspec": {
   "display_name": "Python 3",
   "language": "python",
   "name": "python3"
  },
  "language_info": {
   "codemirror_mode": {
    "name": "ipython",
    "version": 3
   },
   "file_extension": ".py",
   "mimetype": "text/x-python",
   "name": "python",
   "nbconvert_exporter": "python",
   "pygments_lexer": "ipython3",
   "version": "3.6.2"
  },
  "latex_envs": {
   "bibliofile": "biblio.bib",
   "cite_by": "apalike",
   "current_citInitial": 1,
   "eqLabelWithNumbers": true,
   "eqNumInitial": 0
  }
 },
 "nbformat": 4,
 "nbformat_minor": 1
}
